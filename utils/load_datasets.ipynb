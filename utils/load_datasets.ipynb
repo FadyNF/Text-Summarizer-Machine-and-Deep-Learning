{
 "cells": [
  {
   "cell_type": "markdown",
   "id": "2cec8ef5",
   "metadata": {},
   "source": [
    "Loading Datasets"
   ]
  },
  {
   "cell_type": "code",
   "execution_count": 1,
   "id": "157bad7e",
   "metadata": {},
   "outputs": [],
   "source": [
    "train_n = 2000\n",
    "valid_n = 500\n",
    "test_n = 500"
   ]
  },
  {
   "cell_type": "code",
   "execution_count": 2,
   "id": "cfd0c94d",
   "metadata": {},
   "outputs": [
    {
     "name": "stderr",
     "output_type": "stream",
     "text": [
      "c:\\Users\\Fady\\AppData\\Local\\Programs\\Python\\Python312\\Lib\\site-packages\\tqdm\\auto.py:21: TqdmWarning: IProgress not found. Please update jupyter and ipywidgets. See https://ipywidgets.readthedocs.io/en/stable/user_install.html\n",
      "  from .autonotebook import tqdm as notebook_tqdm\n"
     ]
    },
    {
     "name": "stdout",
     "output_type": "stream",
     "text": [
      "Path to dataset files: C:\\Users\\Fady\\.cache\\kagglehub\\datasets\\pariza\\bbc-news-summary\\versions\\2\n"
     ]
    }
   ],
   "source": [
    "import kagglehub\n",
    "\n",
    "# Download latest version\n",
    "path = kagglehub.dataset_download(\"pariza/bbc-news-summary\")\n",
    "\n",
    "print(\"Path to dataset files:\", path)"
   ]
  },
  {
   "cell_type": "markdown",
   "id": "c2696a69",
   "metadata": {},
   "source": [
    "BBC Dataset"
   ]
  },
  {
   "cell_type": "code",
   "execution_count": 3,
   "id": "f3e15bb1",
   "metadata": {},
   "outputs": [],
   "source": [
    "import os\n",
    "import pandas as pd"
   ]
  },
  {
   "cell_type": "code",
   "execution_count": 4,
   "id": "3f8d9aec",
   "metadata": {},
   "outputs": [],
   "source": [
    "articles_path = os.path.join(path, \"BBC News Summary/News Articles\")\n",
    "summaries_path = os.path.join(path, \"BBC News Summary/Summaries\")"
   ]
  },
  {
   "cell_type": "code",
   "execution_count": 5,
   "id": "b40a7757",
   "metadata": {},
   "outputs": [],
   "source": [
    "data = []\n",
    "\n",
    "for category in os.listdir(articles_path):\n",
    "    article_dir = os.path.join(articles_path, category)\n",
    "    summary_dir = os.path.join(summaries_path, category)\n",
    "\n",
    "    if os.path.isdir(article_dir) and os.path.isdir(summary_dir):\n",
    "        for filename in os.listdir(article_dir):\n",
    "            article_file = os.path.join(article_dir, filename)\n",
    "            summary_file = os.path.join(summary_dir, filename)\n",
    "\n",
    "            if os.path.exists(summary_file):\n",
    "                with open(article_file, \"r\", encoding=\"ISO-8859-1\") as f:\n",
    "                    article_text = f.read().strip()\n",
    "                with open(summary_file, \"r\", encoding=\"ISO-8859-1\") as f:\n",
    "                    summary_text = f.read().strip()\n",
    "\n",
    "                data.append(\n",
    "                    {\n",
    "                        # 'Category': category,\n",
    "                        \"Article\": article_text,\n",
    "                        \"Summary\": summary_text,\n",
    "                    }\n",
    "                )"
   ]
  },
  {
   "cell_type": "code",
   "execution_count": 6,
   "id": "976b1f12",
   "metadata": {},
   "outputs": [],
   "source": [
    "bbc_df = pd.DataFrame(data)\n",
    "\n",
    "bbc_df.to_csv(\"../data/bbc/bbc_dataset.csv\", index=False)"
   ]
  },
  {
   "cell_type": "code",
   "execution_count": 7,
   "id": "e739f3c7",
   "metadata": {},
   "outputs": [],
   "source": [
    "bbc_df = pd.read_csv(\"../data/bbc/bbc_dataset.csv\")"
   ]
  },
  {
   "cell_type": "code",
   "execution_count": 8,
   "id": "5040cab5",
   "metadata": {},
   "outputs": [
    {
     "data": {
      "text/html": [
       "<div>\n",
       "<style scoped>\n",
       "    .dataframe tbody tr th:only-of-type {\n",
       "        vertical-align: middle;\n",
       "    }\n",
       "\n",
       "    .dataframe tbody tr th {\n",
       "        vertical-align: top;\n",
       "    }\n",
       "\n",
       "    .dataframe thead th {\n",
       "        text-align: right;\n",
       "    }\n",
       "</style>\n",
       "<table border=\"1\" class=\"dataframe\">\n",
       "  <thead>\n",
       "    <tr style=\"text-align: right;\">\n",
       "      <th></th>\n",
       "      <th>Article</th>\n",
       "      <th>Summary</th>\n",
       "    </tr>\n",
       "  </thead>\n",
       "  <tbody>\n",
       "    <tr>\n",
       "      <th>0</th>\n",
       "      <td>Ad sales boost Time Warner profit\\n\\nQuarterly...</td>\n",
       "      <td>TimeWarner said fourth quarter sales rose 2% t...</td>\n",
       "    </tr>\n",
       "    <tr>\n",
       "      <th>1</th>\n",
       "      <td>Dollar gains on Greenspan speech\\n\\nThe dollar...</td>\n",
       "      <td>The dollar has hit its highest level against t...</td>\n",
       "    </tr>\n",
       "    <tr>\n",
       "      <th>2</th>\n",
       "      <td>Yukos unit buyer faces loan claim\\n\\nThe owner...</td>\n",
       "      <td>Yukos' owner Menatep Group says it will ask Ro...</td>\n",
       "    </tr>\n",
       "    <tr>\n",
       "      <th>3</th>\n",
       "      <td>High fuel prices hit BA's profits\\n\\nBritish A...</td>\n",
       "      <td>Rod Eddington, BA's chief executive, said the ...</td>\n",
       "    </tr>\n",
       "    <tr>\n",
       "      <th>4</th>\n",
       "      <td>Pernod takeover talk lifts Domecq\\n\\nShares in...</td>\n",
       "      <td>Pernod has reduced the debt it took on to fund...</td>\n",
       "    </tr>\n",
       "  </tbody>\n",
       "</table>\n",
       "</div>"
      ],
      "text/plain": [
       "                                             Article  \\\n",
       "0  Ad sales boost Time Warner profit\\n\\nQuarterly...   \n",
       "1  Dollar gains on Greenspan speech\\n\\nThe dollar...   \n",
       "2  Yukos unit buyer faces loan claim\\n\\nThe owner...   \n",
       "3  High fuel prices hit BA's profits\\n\\nBritish A...   \n",
       "4  Pernod takeover talk lifts Domecq\\n\\nShares in...   \n",
       "\n",
       "                                             Summary  \n",
       "0  TimeWarner said fourth quarter sales rose 2% t...  \n",
       "1  The dollar has hit its highest level against t...  \n",
       "2  Yukos' owner Menatep Group says it will ask Ro...  \n",
       "3  Rod Eddington, BA's chief executive, said the ...  \n",
       "4  Pernod has reduced the debt it took on to fund...  "
      ]
     },
     "execution_count": 8,
     "metadata": {},
     "output_type": "execute_result"
    }
   ],
   "source": [
    "bbc_df.head()"
   ]
  },
  {
   "cell_type": "code",
   "execution_count": 9,
   "id": "52dfda6b",
   "metadata": {},
   "outputs": [
    {
     "data": {
      "text/plain": [
       "Article    0\n",
       "Summary    0\n",
       "dtype: int64"
      ]
     },
     "execution_count": 9,
     "metadata": {},
     "output_type": "execute_result"
    }
   ],
   "source": [
    "bbc_df.isnull().sum()"
   ]
  },
  {
   "cell_type": "code",
   "execution_count": 10,
   "id": "3b32f3c4",
   "metadata": {},
   "outputs": [
    {
     "name": "stdout",
     "output_type": "stream",
     "text": [
      "<class 'pandas.core.frame.DataFrame'>\n",
      "RangeIndex: 2225 entries, 0 to 2224\n",
      "Data columns (total 2 columns):\n",
      " #   Column   Non-Null Count  Dtype \n",
      "---  ------   --------------  ----- \n",
      " 0   Article  2225 non-null   object\n",
      " 1   Summary  2225 non-null   object\n",
      "dtypes: object(2)\n",
      "memory usage: 34.9+ KB\n"
     ]
    }
   ],
   "source": [
    "bbc_df.info()"
   ]
  },
  {
   "cell_type": "markdown",
   "id": "3a1f763f",
   "metadata": {},
   "source": [
    "CNN Dataset"
   ]
  },
  {
   "cell_type": "code",
   "execution_count": 11,
   "id": "30772f82",
   "metadata": {},
   "outputs": [
    {
     "name": "stderr",
     "output_type": "stream",
     "text": [
      "C:\\Users\\Fady\\AppData\\Local\\Temp\\ipykernel_57956\\594971142.py:6: DeprecationWarning: load_dataset is deprecated and will be removed in a future version.\n",
      "  train_cnn_df = kagglehub.load_dataset(\n",
      "C:\\Users\\Fady\\AppData\\Local\\Temp\\ipykernel_57956\\594971142.py:15: DeprecationWarning: load_dataset is deprecated and will be removed in a future version.\n",
      "  valid_cnn_df = kagglehub.load_dataset(\n",
      "C:\\Users\\Fady\\AppData\\Local\\Temp\\ipykernel_57956\\594971142.py:25: DeprecationWarning: load_dataset is deprecated and will be removed in a future version.\n",
      "  test_cnn_df = kagglehub.load_dataset(\n"
     ]
    },
    {
     "name": "stdout",
     "output_type": "stream",
     "text": [
      "First 5 records:                                          id  \\\n",
      "0  ed0fed726929c1eeabe6c390e47128dbb7d7a055   \n",
      "1  023cd84001b33aed4ff0f3f5ecb0fdd2151cf543   \n",
      "2  6a70a0d8d3ed365fe1df6d35f1587a8b9b298618   \n",
      "3  b37204c13ea38b511265e41ac69fb12acfb63f85   \n",
      "4  c24e5805afd5145bc48410e876db91d44a06be5e   \n",
      "\n",
      "                                             article  \\\n",
      "0  By . Mia De Graaf . Britons flocked to beaches...   \n",
      "1  A couple who weighed a combined 32st were sham...   \n",
      "2  Video footage shows the heart stopping moment ...   \n",
      "3  Istanbul, Turkey (CNN) -- About 250 people rac...   \n",
      "4  By . Daily Mail Reporter . PUBLISHED: . 12:53 ...   \n",
      "\n",
      "                                          highlights  \n",
      "0  People enjoyed temperatures of 17C at Brighton...  \n",
      "1  Couple started piling on pounds after the birt...  \n",
      "2  A 17-year-old boy suffering lacerations to his...  \n",
      "3  Syrians citizens hightail it to Turkey .\\nMost...  \n",
      "4  The Xue Long had provided the helicopter that ...  \n"
     ]
    }
   ],
   "source": [
    "import kagglehub\n",
    "from kagglehub import KaggleDatasetAdapter\n",
    "\n",
    "# Train Dataset\n",
    "train_path = \"cnn_dailymail/train.csv\"\n",
    "train_cnn_df = kagglehub.load_dataset(\n",
    "    KaggleDatasetAdapter.PANDAS,\n",
    "    \"gowrishankarp/newspaper-text-summarization-cnn-dailymail\",\n",
    "    train_path,\n",
    ")\n",
    "train_cnn_df = train_cnn_df.sample(n = train_n, random_state=42).reset_index(drop=True)\n",
    "\n",
    "# Validation Dataset\n",
    "valid_path = \"cnn_dailymail/validation.csv\"\n",
    "valid_cnn_df = kagglehub.load_dataset(\n",
    "    KaggleDatasetAdapter.PANDAS,\n",
    "    \"gowrishankarp/newspaper-text-summarization-cnn-dailymail\",\n",
    "    valid_path,\n",
    ")\n",
    "valid_cnn_df = valid_cnn_df.sample(n = valid_n, random_state=42).reset_index(drop=True)\n",
    "\n",
    "\n",
    "# Test Dataset\n",
    "test_path = \"cnn_dailymail/test.csv\"\n",
    "test_cnn_df = kagglehub.load_dataset(\n",
    "    KaggleDatasetAdapter.PANDAS,\n",
    "    \"gowrishankarp/newspaper-text-summarization-cnn-dailymail\",\n",
    "    test_path,\n",
    ")\n",
    "test_cnn_df = test_cnn_df.sample(n = test_n, random_state=42).reset_index(drop=True)\n",
    "\n",
    "\n",
    "print(\"First 5 records:\", train_cnn_df.head())"
   ]
  },
  {
   "cell_type": "code",
   "execution_count": 12,
   "id": "8329e641",
   "metadata": {},
   "outputs": [],
   "source": [
    "for name, df in zip(\n",
    "    [\"train\", \"valid\", \"test\"], [train_cnn_df, valid_cnn_df, test_cnn_df]\n",
    "):\n",
    "    df.drop(columns=[\"id\"], inplace=True)\n",
    "    df[\"Article\"] = df.pop(\"article\")\n",
    "    df[\"Summary\"] = df.pop(\"highlights\")\n",
    "    df.to_csv(f\"../data/cnn/cnn_dailymail_{name}.csv\", index=False)"
   ]
  },
  {
   "cell_type": "code",
   "execution_count": null,
   "id": "848d9a9f",
   "metadata": {},
   "outputs": [],
   "source": []
  }
 ],
 "metadata": {
  "kernelspec": {
   "display_name": "Python 3",
   "language": "python",
   "name": "python3"
  },
  "language_info": {
   "codemirror_mode": {
    "name": "ipython",
    "version": 3
   },
   "file_extension": ".py",
   "mimetype": "text/x-python",
   "name": "python",
   "nbconvert_exporter": "python",
   "pygments_lexer": "ipython3",
   "version": "3.12.6"
  }
 },
 "nbformat": 4,
 "nbformat_minor": 5
}
