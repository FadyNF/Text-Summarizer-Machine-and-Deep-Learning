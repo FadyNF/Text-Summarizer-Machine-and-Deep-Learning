{
 "cells": [
  {
   "cell_type": "markdown",
   "id": "4da69b80",
   "metadata": {},
   "source": [
    "Imports"
   ]
  },
  {
   "cell_type": "code",
   "execution_count": 31,
   "id": "fe4726d0",
   "metadata": {},
   "outputs": [],
   "source": [
    "import os\n",
    "import pandas as pd\n",
    "import kagglehub\n",
    "from kagglehub import KaggleDatasetAdapter"
   ]
  },
  {
   "cell_type": "code",
   "execution_count": 32,
   "id": "26bfd969",
   "metadata": {},
   "outputs": [],
   "source": [
    "train_n = 2000\n",
    "valid_n = 500\n",
    "test_n = 500"
   ]
  },
  {
   "cell_type": "markdown",
   "id": "6194f333",
   "metadata": {},
   "source": [
    "Dowloading BBC Dataset"
   ]
  },
  {
   "cell_type": "code",
   "execution_count": 33,
   "id": "1b1528da",
   "metadata": {},
   "outputs": [
    {
     "name": "stdout",
     "output_type": "stream",
     "text": [
      "Path to dataset files: C:\\Users\\VICTUS\\.cache\\kagglehub\\datasets\\pariza\\bbc-news-summary\\versions\\2\n"
     ]
    }
   ],
   "source": [
    "# === BBC Dataset Download and Processing ===\n",
    "path = kagglehub.dataset_download(\"pariza/bbc-news-summary\")\n",
    "print(\"Path to dataset files:\", path)\n",
    "\n",
    "articles_path = os.path.join(path, \"BBC News Summary/News Articles\")\n",
    "summaries_path = os.path.join(path, \"BBC News Summary/Summaries\")\n",
    "data = []\n",
    "\n",
    "for category in os.listdir(articles_path):\n",
    "    article_dir = os.path.join(articles_path, category)\n",
    "    summary_dir = os.path.join(summaries_path, category)\n",
    "\n",
    "    if os.path.isdir(article_dir) and os.path.isdir(summary_dir):\n",
    "        for filename in os.listdir(article_dir):\n",
    "            article_file = os.path.join(article_dir, filename)\n",
    "            summary_file = os.path.join(summary_dir, filename)\n",
    "\n",
    "            if os.path.exists(summary_file):\n",
    "                with open(article_file, \"r\", encoding=\"ISO-8859-1\") as f:\n",
    "                    article_text = f.read().strip()\n",
    "                with open(summary_file, \"r\", encoding=\"ISO-8859-1\") as f:\n",
    "                    summary_text = f.read().strip()\n",
    "\n",
    "                data.append({\n",
    "                    \"Article\": article_text,\n",
    "                    \"Summary\": summary_text,\n",
    "                })"
   ]
  },
  {
   "cell_type": "markdown",
   "id": "3e3a83fd",
   "metadata": {},
   "source": [
    "Saving BBC Dataset to data directory"
   ]
  },
  {
   "cell_type": "code",
   "execution_count": 34,
   "id": "9e25f49e",
   "metadata": {},
   "outputs": [
    {
     "name": "stdout",
     "output_type": "stream",
     "text": [
      "Dataset saved to: ../data/bbc\\bbc_dataset.csv\n"
     ]
    }
   ],
   "source": [
    "# Save BBC Dataset\n",
    "bbc_df = pd.DataFrame(data)\n",
    "output_dir = \"../data/bbc\"\n",
    "output_path = os.path.join(output_dir, \"bbc_dataset.csv\")\n",
    "os.makedirs(output_dir, exist_ok=True)\n",
    "bbc_df.to_csv(output_path, index=False)\n",
    "print(\"Dataset saved to:\", output_path)"
   ]
  },
  {
   "cell_type": "markdown",
   "id": "014557d9",
   "metadata": {},
   "source": [
    "Dowloading CNN Dataset"
   ]
  },
  {
   "cell_type": "code",
   "execution_count": 35,
   "id": "3a8e1f6c",
   "metadata": {},
   "outputs": [
    {
     "name": "stderr",
     "output_type": "stream",
     "text": [
      "C:\\Users\\VICTUS\\AppData\\Local\\Temp\\ipykernel_19924\\3360060259.py:3: DeprecationWarning: load_dataset is deprecated and will be removed in a future version.\n",
      "  df = kagglehub.load_dataset(KaggleDatasetAdapter.PANDAS, \"gowrishankarp/newspaper-text-summarization-cnn-dailymail\", path)\n",
      "C:\\Users\\VICTUS\\AppData\\Local\\Temp\\ipykernel_19924\\3360060259.py:3: DeprecationWarning: load_dataset is deprecated and will be removed in a future version.\n",
      "  df = kagglehub.load_dataset(KaggleDatasetAdapter.PANDAS, \"gowrishankarp/newspaper-text-summarization-cnn-dailymail\", path)\n",
      "C:\\Users\\VICTUS\\AppData\\Local\\Temp\\ipykernel_19924\\3360060259.py:3: DeprecationWarning: load_dataset is deprecated and will be removed in a future version.\n",
      "  df = kagglehub.load_dataset(KaggleDatasetAdapter.PANDAS, \"gowrishankarp/newspaper-text-summarization-cnn-dailymail\", path)\n"
     ]
    }
   ],
   "source": [
    "# === CNN/DailyMail Dataset Loading ===\n",
    "def load_and_sample(path, sample_size):\n",
    "    df = kagglehub.load_dataset(KaggleDatasetAdapter.PANDAS, \"gowrishankarp/newspaper-text-summarization-cnn-dailymail\", path)\n",
    "    return df.sample(n=sample_size, random_state=42).reset_index(drop=True)\n",
    "\n",
    "train_cnn_df = load_and_sample(\"cnn_dailymail/train.csv\", train_n)\n",
    "valid_cnn_df = load_and_sample(\"cnn_dailymail/validation.csv\", valid_n)\n",
    "test_cnn_df = load_and_sample(\"cnn_dailymail/test.csv\", test_n)"
   ]
  },
  {
   "cell_type": "markdown",
   "id": "acecef88",
   "metadata": {},
   "source": [
    "Cleaning and saving CNN Dataset to data directory"
   ]
  },
  {
   "cell_type": "code",
   "execution_count": 36,
   "id": "6efc91fb",
   "metadata": {},
   "outputs": [
    {
     "name": "stdout",
     "output_type": "stream",
     "text": [
      "All CNN/DailyMail datasets saved successfully.\n"
     ]
    }
   ],
   "source": [
    "# === Clean and Save CNN/DailyMail Data ===\n",
    "os.makedirs(\"../data/cnn\", exist_ok=True)\n",
    "\n",
    "for name, df in zip([\"train\", \"valid\", \"test\"], [train_cnn_df, valid_cnn_df, test_cnn_df]):\n",
    "    if \"id\" in df.columns:\n",
    "        df.drop(columns=[\"id\"], inplace=True)\n",
    "    df[\"Article\"] = df.pop(\"article\")\n",
    "    df[\"Summary\"] = df.pop(\"highlights\")\n",
    "    df.to_csv(f\"../data/cnn/cnn_dailymail_{name}.csv\", index=False)\n",
    "\n",
    "print(\"All CNN/DailyMail datasets saved successfully.\")"
   ]
  },
  {
   "cell_type": "code",
   "execution_count": 29,
   "id": "c4c9c342",
   "metadata": {},
   "outputs": [
    {
     "data": {
      "text/html": [
       "<div>\n",
       "<style scoped>\n",
       "    .dataframe tbody tr th:only-of-type {\n",
       "        vertical-align: middle;\n",
       "    }\n",
       "\n",
       "    .dataframe tbody tr th {\n",
       "        vertical-align: top;\n",
       "    }\n",
       "\n",
       "    .dataframe thead th {\n",
       "        text-align: right;\n",
       "    }\n",
       "</style>\n",
       "<table border=\"1\" class=\"dataframe\">\n",
       "  <thead>\n",
       "    <tr style=\"text-align: right;\">\n",
       "      <th></th>\n",
       "      <th>Article</th>\n",
       "      <th>Summary</th>\n",
       "    </tr>\n",
       "  </thead>\n",
       "  <tbody>\n",
       "    <tr>\n",
       "      <th>0</th>\n",
       "      <td>Ad sales boost Time Warner profit\\n\\nQuarterly...</td>\n",
       "      <td>TimeWarner said fourth quarter sales rose 2% t...</td>\n",
       "    </tr>\n",
       "    <tr>\n",
       "      <th>1</th>\n",
       "      <td>Dollar gains on Greenspan speech\\n\\nThe dollar...</td>\n",
       "      <td>The dollar has hit its highest level against t...</td>\n",
       "    </tr>\n",
       "    <tr>\n",
       "      <th>2</th>\n",
       "      <td>Yukos unit buyer faces loan claim\\n\\nThe owner...</td>\n",
       "      <td>Yukos' owner Menatep Group says it will ask Ro...</td>\n",
       "    </tr>\n",
       "    <tr>\n",
       "      <th>3</th>\n",
       "      <td>High fuel prices hit BA's profits\\n\\nBritish A...</td>\n",
       "      <td>Rod Eddington, BA's chief executive, said the ...</td>\n",
       "    </tr>\n",
       "    <tr>\n",
       "      <th>4</th>\n",
       "      <td>Pernod takeover talk lifts Domecq\\n\\nShares in...</td>\n",
       "      <td>Pernod has reduced the debt it took on to fund...</td>\n",
       "    </tr>\n",
       "  </tbody>\n",
       "</table>\n",
       "</div>"
      ],
      "text/plain": [
       "                                             Article  \\\n",
       "0  Ad sales boost Time Warner profit\\n\\nQuarterly...   \n",
       "1  Dollar gains on Greenspan speech\\n\\nThe dollar...   \n",
       "2  Yukos unit buyer faces loan claim\\n\\nThe owner...   \n",
       "3  High fuel prices hit BA's profits\\n\\nBritish A...   \n",
       "4  Pernod takeover talk lifts Domecq\\n\\nShares in...   \n",
       "\n",
       "                                             Summary  \n",
       "0  TimeWarner said fourth quarter sales rose 2% t...  \n",
       "1  The dollar has hit its highest level against t...  \n",
       "2  Yukos' owner Menatep Group says it will ask Ro...  \n",
       "3  Rod Eddington, BA's chief executive, said the ...  \n",
       "4  Pernod has reduced the debt it took on to fund...  "
      ]
     },
     "execution_count": 29,
     "metadata": {},
     "output_type": "execute_result"
    }
   ],
   "source": [
    "bbc_df.head()"
   ]
  },
  {
   "cell_type": "code",
   "execution_count": 30,
   "id": "c385b286",
   "metadata": {},
   "outputs": [
    {
     "data": {
      "text/html": [
       "<div>\n",
       "<style scoped>\n",
       "    .dataframe tbody tr th:only-of-type {\n",
       "        vertical-align: middle;\n",
       "    }\n",
       "\n",
       "    .dataframe tbody tr th {\n",
       "        vertical-align: top;\n",
       "    }\n",
       "\n",
       "    .dataframe thead th {\n",
       "        text-align: right;\n",
       "    }\n",
       "</style>\n",
       "<table border=\"1\" class=\"dataframe\">\n",
       "  <thead>\n",
       "    <tr style=\"text-align: right;\">\n",
       "      <th></th>\n",
       "      <th>Article</th>\n",
       "      <th>Summary</th>\n",
       "    </tr>\n",
       "  </thead>\n",
       "  <tbody>\n",
       "    <tr>\n",
       "      <th>0</th>\n",
       "      <td>Comedian Jenny Eclair travelled with her other...</td>\n",
       "      <td>The comedian stayed with Flavours who offer a ...</td>\n",
       "    </tr>\n",
       "    <tr>\n",
       "      <th>1</th>\n",
       "      <td>A woman of Arab and Jewish descent who was str...</td>\n",
       "      <td>The federal government will give Shoshana Hebs...</td>\n",
       "    </tr>\n",
       "    <tr>\n",
       "      <th>2</th>\n",
       "      <td>World No 1 Novak Djokovic has apologised to th...</td>\n",
       "      <td>Novak Djokovic beat Andy Murray 7-6 4-6 6-0 in...</td>\n",
       "    </tr>\n",
       "    <tr>\n",
       "      <th>3</th>\n",
       "      <td>(CNN)ISIS on Wednesday released more than 200 ...</td>\n",
       "      <td>Most of those released were women and children...</td>\n",
       "    </tr>\n",
       "    <tr>\n",
       "      <th>4</th>\n",
       "      <td>Hillary Clinton’s security detail arrived at a...</td>\n",
       "      <td>Second modified, armored van spotted near Des ...</td>\n",
       "    </tr>\n",
       "  </tbody>\n",
       "</table>\n",
       "</div>"
      ],
      "text/plain": [
       "                                             Article  \\\n",
       "0  Comedian Jenny Eclair travelled with her other...   \n",
       "1  A woman of Arab and Jewish descent who was str...   \n",
       "2  World No 1 Novak Djokovic has apologised to th...   \n",
       "3  (CNN)ISIS on Wednesday released more than 200 ...   \n",
       "4  Hillary Clinton’s security detail arrived at a...   \n",
       "\n",
       "                                             Summary  \n",
       "0  The comedian stayed with Flavours who offer a ...  \n",
       "1  The federal government will give Shoshana Hebs...  \n",
       "2  Novak Djokovic beat Andy Murray 7-6 4-6 6-0 in...  \n",
       "3  Most of those released were women and children...  \n",
       "4  Second modified, armored van spotted near Des ...  "
      ]
     },
     "execution_count": 30,
     "metadata": {},
     "output_type": "execute_result"
    }
   ],
   "source": [
    "df.head()"
   ]
  }
 ],
 "metadata": {
  "kernelspec": {
   "display_name": "Python 3",
   "language": "python",
   "name": "python3"
  },
  "language_info": {
   "codemirror_mode": {
    "name": "ipython",
    "version": 3
   },
   "file_extension": ".py",
   "mimetype": "text/x-python",
   "name": "python",
   "nbconvert_exporter": "python",
   "pygments_lexer": "ipython3",
   "version": "3.12.6"
  }
 },
 "nbformat": 4,
 "nbformat_minor": 5
}
